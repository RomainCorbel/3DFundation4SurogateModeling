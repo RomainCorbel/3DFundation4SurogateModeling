{
 "cells": [
  {
   "cell_type": "code",
   "execution_count": 7,
   "id": "af366412",
   "metadata": {},
   "outputs": [
    {
     "name": "stdout",
     "output_type": "stream",
     "text": [
      "Loaded 180 foils\n",
      "Data(x=[10, 7], y=[10, 1], pos=[10, 2], surf=[10], g=[1024])\n",
      "x: torch.Size([10, 7]) y: torch.Size([10, 1]) pos: torch.Size([10, 2]) surf: torch.Size([10]) has g: True\n"
     ]
    }
   ],
   "source": [
    "import torch\n",
    "from torch_geometric.data import Data\n",
    "\n",
    "# Allowlist torch_geometric's Data for unpickling (PyTorch 2.6+ safety)\n",
    "if hasattr(torch.serialization, \"add_safe_globals\"):\n",
    "    torch.serialization.add_safe_globals([Data])\n",
    "\n",
    "# Now load (works whether you saved a list or a dict with {\"dataset\": ..., \"coef_norm\": ...})\n",
    "path = \"./train_dataset\"  # or \"Dataset/train_dataset.pt\" if that’s your filename\n",
    "obj = torch.load(path, map_location=\"cpu\", weights_only=False)\n",
    "\n",
    "if isinstance(obj, dict) and \"dataset\" in obj:\n",
    "    data_list = obj[\"dataset\"]\n",
    "    coef_norm = obj.get(\"coef_norm\", None)\n",
    "else:\n",
    "    data_list = obj\n",
    "    coef_norm = None\n",
    "\n",
    "print(f\"Loaded {len(data_list)} foils\")\n",
    "d0 = data_list[0]\n",
    "print(d0)\n",
    "print(\"x:\", d0.x.shape, \"y:\", d0.y.shape, \"pos:\", d0.pos.shape, \"surf:\", d0.surf.shape, \"has g:\", hasattr(d0, \"g\"))\n"
   ]
  },
  {
   "cell_type": "code",
   "execution_count": 8,
   "id": "7455e30f",
   "metadata": {},
   "outputs": [
    {
     "name": "stdout",
     "output_type": "stream",
     "text": [
      "\n",
      "--- First foil sample ---\n",
      "x (first 5 rows):\n",
      "[[-1.1518016  -0.95302624 -1.4449525   0.34496346  0.         -0.10202727\n",
      "  -1.0380168 ]\n",
      " [ 1.1142102   0.5466951  -1.4449525   0.34496346  0.          1.0764974\n",
      "   0.97981066]\n",
      " [ 0.06793416 -1.0244389  -1.4449525   0.34496346  0.          0.10060588\n",
      "  -1.0379212 ]\n",
      " [-1.2205467   1.7621026  -1.4449525   0.34496346  0.         -1.2968853\n",
      "   0.9696862 ]\n",
      " [ 0.93350536  0.7670427  -1.4449525   0.34496346  0.          1.0284183\n",
      "   0.9820153 ]]\n",
      "\n",
      "y (first 5 values):\n",
      "[ 0.5701196   0.32005188  0.42749652 -0.6711935   0.2931787 ]\n",
      "\n",
      "pos (first 5 points):\n",
      "[[ 0.15744904 -0.03342144]\n",
      " [ 0.81518626  0.04554505]\n",
      " [ 0.511492   -0.03718161]\n",
      " [ 0.13749492  0.10954125]\n",
      " [ 0.7627345   0.05714726]]\n",
      "\n",
      "g (first 10 of 1024 features):\n",
      "[ 0.0000000e+00  3.0793010e-03  7.5377457e-02  1.3654685e-03\n",
      " -5.8002864e-10  5.5359541e-03 -7.0725920e-10  7.5342233e-04\n",
      " -5.9096994e-10 -8.2222712e-10]\n"
     ]
    }
   ],
   "source": [
    "# Show actual values for the first foil (limited for readability)\n",
    "print(\"\\n--- First foil sample ---\")\n",
    "\n",
    "# x: first few surface points and their features\n",
    "print(\"x (first 5 rows):\")\n",
    "print(d0.x[:5].numpy())\n",
    "\n",
    "# y: wall pressure target\n",
    "print(\"\\ny (first 5 values):\")\n",
    "print(d0.y[:5].numpy().squeeze())\n",
    "\n",
    "# pos: 2D coordinates on the airfoil\n",
    "print(\"\\npos (first 5 points):\")\n",
    "print(d0.pos[:5].numpy())\n",
    "\n",
    "# g: first few of the 1024 global features\n",
    "if hasattr(d0, \"g\"):\n",
    "    print(\"\\ng (first 10 of 1024 features):\")\n",
    "    print(d0.g[:10].numpy())\n",
    "else:\n",
    "    print(\"\\nNo global features (g) attached to this sample.\")\n"
   ]
  },
  {
   "cell_type": "code",
   "execution_count": null,
   "id": "6a1387bf",
   "metadata": {},
   "outputs": [],
   "source": []
  }
 ],
 "metadata": {
  "kernelspec": {
   "display_name": "torch128.2",
   "language": "python",
   "name": "python3"
  },
  "language_info": {
   "codemirror_mode": {
    "name": "ipython",
    "version": 3
   },
   "file_extension": ".py",
   "mimetype": "text/x-python",
   "name": "python",
   "nbconvert_exporter": "python",
   "pygments_lexer": "ipython3",
   "version": "3.11.13"
  }
 },
 "nbformat": 4,
 "nbformat_minor": 5
}
