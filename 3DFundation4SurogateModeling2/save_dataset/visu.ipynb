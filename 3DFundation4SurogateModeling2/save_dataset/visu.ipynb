{
 "cells": [
  {
   "cell_type": "code",
   "execution_count": 1,
   "id": "af366412",
   "metadata": {},
   "outputs": [
    {
     "name": "stdout",
     "output_type": "stream",
     "text": [
      "Loaded 180 foils\n"
     ]
    }
   ],
   "source": [
    "import torch\n",
    "from torch_geometric.data import Data\n",
    "\n",
    "# Allowlist torch_geometric's Data for unpickling (PyTorch 2.6+ safety)\n",
    "if hasattr(torch.serialization, \"add_safe_globals\"):\n",
    "    torch.serialization.add_safe_globals([Data])\n",
    "\n",
    "# Now load (works whether you saved a list or a dict with {\"dataset\": ..., \"coef_norm\": ...})\n",
    "path = \"./train_dataset\"  # or \"Dataset/train_dataset.pt\" if that’s your filename\n",
    "obj = torch.load(path, map_location=\"cpu\", weights_only=False)\n",
    "\n",
    "if isinstance(obj, dict) and \"dataset\" in obj:\n",
    "    data_list = obj[\"dataset\"]\n",
    "    coef_norm = obj.get(\"coef_norm\", None)\n",
    "else:\n",
    "    data_list = obj\n",
    "    coef_norm = None\n",
    "\n",
    "print(f\"Loaded {len(data_list)} foils\")\n"
   ]
  },
  {
   "cell_type": "code",
   "execution_count": 2,
   "id": "7455e30f",
   "metadata": {},
   "outputs": [
    {
     "name": "stdout",
     "output_type": "stream",
     "text": [
      "Data(x=[10, 7], y=[10, 1], pos=[10, 2], surf=[10], g=[1024])\n",
      "x: torch.Size([10, 7]) y: torch.Size([10, 1]) pos: torch.Size([10, 2]) surf: torch.Size([10]) has g: True\n",
      "\n",
      "--- First foil sample ---\n",
      "x (first 5 rows):\n",
      "[[-1.1518016  -0.95302624 -1.4449525   0.34496346  0.         -0.10202727\n",
      "  -1.0380168 ]\n",
      " [ 1.1142102   0.5466951  -1.4449525   0.34496346  0.          1.0764974\n",
      "   0.97981066]\n",
      " [ 0.06793416 -1.0244389  -1.4449525   0.34496346  0.          0.10060588\n",
      "  -1.0379212 ]\n",
      " [-1.2205467   1.7621026  -1.4449525   0.34496346  0.         -1.2968853\n",
      "   0.9696862 ]\n",
      " [ 0.93350536  0.7670427  -1.4449525   0.34496346  0.          1.0284183\n",
      "   0.9820153 ]]\n",
      "\n",
      "y (first 5 values):\n",
      "[ 0.5701196   0.32005188  0.42749652 -0.6711935   0.2931787 ]\n",
      "\n",
      "pos (first 5 points):\n",
      "[[ 0.15744904 -0.03342144]\n",
      " [ 0.81518626  0.04554505]\n",
      " [ 0.511492   -0.03718161]\n",
      " [ 0.13749492  0.10954125]\n",
      " [ 0.7627345   0.05714726]]\n",
      "\n",
      "g (first 10 of 1024 features):\n",
      "[ 0.0000000e+00  3.0793010e-03  7.5377457e-02  1.3654685e-03\n",
      " -5.8002864e-10  5.5359541e-03 -7.0725920e-10  7.5342233e-04\n",
      " -5.9096994e-10 -8.2222712e-10]\n"
     ]
    }
   ],
   "source": [
    "d0 = data_list[0]\n",
    "print(d0)\n",
    "print(\"x:\", d0.x.shape, \"y:\", d0.y.shape, \"pos:\", d0.pos.shape, \"surf:\", d0.surf.shape, \"has g:\", hasattr(d0, \"g\"))\n",
    "\n",
    "# Show actual values for the first foil (limited for readability)\n",
    "print(\"\\n--- First foil sample ---\")\n",
    "\n",
    "# x: first few surface points and their features\n",
    "print(\"x (first 5 rows):\")\n",
    "print(d0.x[:5].numpy())\n",
    "\n",
    "# y: wall pressure target\n",
    "print(\"\\ny (first 5 values):\")\n",
    "print(d0.y[:5].numpy().squeeze())\n",
    "\n",
    "# pos: 2D coordinates on the airfoil\n",
    "print(\"\\npos (first 5 points):\")\n",
    "print(d0.pos[:5].numpy())\n",
    "\n",
    "# g: first few of the 1024 global features\n",
    "if hasattr(d0, \"g\"):\n",
    "    print(\"\\ng (first 10 of 1024 features):\")\n",
    "    print(d0.g[:10].numpy())\n",
    "else:\n",
    "    print(\"\\nNo global features (g) attached to this sample.\")\n"
   ]
  },
  {
   "cell_type": "code",
   "execution_count": 4,
   "id": "6a1387bf",
   "metadata": {},
   "outputs": [
    {
     "name": "stdout",
     "output_type": "stream",
     "text": [
      "Data(x=[10, 7], y=[10, 1], pos=[10, 2], surf=[10], g=[1024])\n",
      "x: torch.Size([10, 7]) y: torch.Size([10, 1]) pos: torch.Size([10, 2]) surf: torch.Size([10]) has g: True\n",
      "\n",
      "--- Second foil sample ---\n",
      "x (first 5 rows):\n",
      "[[ 0.88918597  0.5795557  -0.11869796 -1.4224489   0.          0.69541925\n",
      "   0.99445987]\n",
      " [-1.4764423  -0.8047452  -0.11869796 -1.4224489   0.         -0.5965983\n",
      "  -1.03097   ]\n",
      " [-0.18408528  1.1082271  -0.11869796 -1.4224489   0.          0.12702729\n",
      "   1.0046295 ]\n",
      " [ 1.3855048   0.11464523 -0.11869796 -1.4224489   0.          0.9324739\n",
      "   0.9861043 ]\n",
      " [ 0.633886   -0.46948195 -0.11869796 -1.4224489   0.          0.18635254\n",
      "  -1.0373607 ]]\n",
      "\n",
      "y (first 5 values):\n",
      "[ 0.15382834 -0.54598767  0.04039281  0.29457414  0.35894448]\n",
      "\n",
      "pos (first 5 points):\n",
      "[[ 0.74987024  0.0472753 ]\n",
      " [ 0.06321815 -0.02561383]\n",
      " [ 0.43834034  0.07511202]\n",
      " [ 0.89393276  0.02279585]\n",
      " [ 0.67576635 -0.00796085]]\n",
      "\n",
      "g (first 10 of 1024 features):\n",
      "[ 0.0000000e+00  1.6394587e-03  2.7794536e-02 -3.5743569e-10\n",
      " -4.4179427e-10  2.3009679e-03  1.5479489e-04  9.0650644e-04\n",
      " -4.5012799e-10  2.6493482e-04]\n"
     ]
    }
   ],
   "source": [
    "d1 = data_list[1]\n",
    "print(d1)\n",
    "print(\"x:\", d1.x.shape, \"y:\", d1.y.shape, \"pos:\", d1.pos.shape, \"surf:\", d1.surf.shape, \"has g:\", hasattr(d1, \"g\"))\n",
    "\n",
    "# Show actual values for the first foil (limited for readability)\n",
    "print(\"\\n--- Second foil sample ---\")\n",
    "\n",
    "# x: first few surface points and their features\n",
    "print(\"x (first 5 rows):\")\n",
    "print(d1.x[:5].numpy())\n",
    "\n",
    "# y: wall pressure target\n",
    "print(\"\\ny (first 5 values):\")\n",
    "print(d1.y[:5].numpy().squeeze())\n",
    "\n",
    "# pos: 2D coordinates on the airfoil\n",
    "print(\"\\npos (first 5 points):\")\n",
    "print(d1.pos[:5].numpy())\n",
    "\n",
    "# g: first few of the 1024 global features\n",
    "if hasattr(d1, \"g\"):\n",
    "    print(\"\\ng (first 10 of 1024 features):\")\n",
    "    print(d1.g[:10].numpy())\n",
    "else:\n",
    "    print(\"\\nNo global features (g) attached to this sample.\")\n"
   ]
  },
  {
   "cell_type": "code",
   "execution_count": null,
   "id": "a6e5caf9",
   "metadata": {},
   "outputs": [],
   "source": []
  }
 ],
 "metadata": {
  "kernelspec": {
   "display_name": "torch128.2",
   "language": "python",
   "name": "python3"
  },
  "language_info": {
   "codemirror_mode": {
    "name": "ipython",
    "version": 3
   },
   "file_extension": ".py",
   "mimetype": "text/x-python",
   "name": "python",
   "nbconvert_exporter": "python",
   "pygments_lexer": "ipython3",
   "version": "3.11.13"
  }
 },
 "nbformat": 4,
 "nbformat_minor": 5
}
